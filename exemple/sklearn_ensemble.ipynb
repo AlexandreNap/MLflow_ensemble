{
 "cells": [
  {
   "cell_type": "code",
   "execution_count": 1,
   "metadata": {
    "collapsed": true
   },
   "outputs": [],
   "source": [
    "import numpy as np\n",
    "import sklearn"
   ]
  },
  {
   "cell_type": "code",
   "execution_count": 2,
   "outputs": [],
   "source": [
    "from sklearn.datasets import load_digits\n",
    "\n",
    "X, y = load_digits(return_X_y=True)"
   ],
   "metadata": {
    "collapsed": false
   }
  },
  {
   "cell_type": "code",
   "execution_count": 3,
   "outputs": [],
   "source": [
    "from sklearn.model_selection import train_test_split\n",
    "\n",
    "X_train, X_test, y_train, y_test = train_test_split(X, y, train_size=0.6)\n",
    "X_val, X_test, y_val, y_test = train_test_split(X_test, y_test , train_size=0.5)"
   ],
   "metadata": {
    "collapsed": false
   }
  },
  {
   "cell_type": "code",
   "execution_count": 31,
   "outputs": [],
   "source": [
    "import mlflow\n",
    "\n",
    "def train(model, X_train, X_val, y_train, y_val):\n",
    "    with mlflow.start_run() as run:\n",
    "        model.fit(X_train, y_train)\n",
    "        y_pred = model.predict(X_val)\n",
    "        model_name = \"classif_model\"\n",
    "        classif = sklearn.metrics.classification_report(y_val, y_pred, output_dict=True)\n",
    "        mlflow.log_dict(classif, \"classification_report.json\")\n",
    "        mlflow.log_metric(\"accuracy\", classif[\"accuracy\"])\n",
    "        print(f\"\\n{classif['accuracy']}\")\n",
    "        run_id = run.info.run_id\n",
    "        mlflow.sklearn.log_model(model, model_name)\n",
    "    mlflow.end_run()\n",
    "    uri = f\"runs:/{run_id}/{model_name}\"\n",
    "    return model, uri"
   ],
   "metadata": {
    "collapsed": false
   }
  },
  {
   "cell_type": "code",
   "execution_count": 49,
   "outputs": [
    {
     "name": "stdout",
     "output_type": "stream",
     "text": [
      "\n",
      "0.935933147632312\n",
      "\n",
      "0.9331476323119777\n"
     ]
    },
    {
     "name": "stderr",
     "output_type": "stream",
     "text": [
      "/home/alex/Documents/MLflow_ensemble/venv/lib/python3.9/site-packages/sklearn/linear_model/_logistic.py:444: ConvergenceWarning: lbfgs failed to converge (status=1):\n",
      "STOP: TOTAL NO. of ITERATIONS REACHED LIMIT.\n",
      "\n",
      "Increase the number of iterations (max_iter) or scale the data as shown in:\n",
      "    https://scikit-learn.org/stable/modules/preprocessing.html\n",
      "Please also refer to the documentation for alternative solver options:\n",
      "    https://scikit-learn.org/stable/modules/linear_model.html#logistic-regression\n",
      "  n_iter_i = _check_optimize_result(\n"
     ]
    },
    {
     "name": "stdout",
     "output_type": "stream",
     "text": [
      "\n",
      "0.9498607242339833\n",
      "\n",
      "0.9749303621169917\n"
     ]
    }
   ],
   "source": [
    "from sklearn.ensemble import RandomForestClassifier\n",
    "from sklearn.linear_model import LogisticRegression\n",
    "from sklearn.svm import SVC\n",
    "\n",
    "models_list = []\n",
    "\n",
    "model, uri = train(RandomForestClassifier(n_estimators=200, max_depth=5),\n",
    "                   X_train, X_val, y_train, y_val)\n",
    "models_list.append(uri)\n",
    "\n",
    "model, uri = train(RandomForestClassifier(n_estimators=200, max_depth=5),\n",
    "                   X_train, X_val, y_train, y_val)\n",
    "models_list.append(uri)\n",
    "\n",
    "model, uri = train(LogisticRegression(),\n",
    "                   X_train, X_val, y_train, y_val)\n",
    "models_list.append(uri)\n",
    "\n",
    "model, uri = train(SVC(),\n",
    "                   X_train, X_val, y_train, y_val)\n",
    "models_list.append(uri)"
   ],
   "metadata": {
    "collapsed": false
   }
  },
  {
   "cell_type": "code",
   "execution_count": 60,
   "outputs": [
    {
     "name": "stdout",
     "output_type": "stream",
     "text": [
      "/home/alex/Documents/MLflow_ensemble\n",
      "/home/alex/Documents/MLflow_ensemble/exemple\n",
      "\n",
      "0.9693593314763231\n"
     ]
    }
   ],
   "source": [
    "%cd ..\n",
    "from mlflow_ensemble.ensemble_model import Ensemble\n",
    "%cd exemple\n",
    "from sklearn.preprocessing import OneHotEncoder\n",
    "import numpy as np\n",
    "\n",
    "def stack_and_onehot_encode(scores):\n",
    "    new_scores_l= []\n",
    "    for score in scores:\n",
    "        n_score = score\n",
    "        if len(score.shape) == 1:\n",
    "            enc = OneHotEncoder()\n",
    "            enc.fit([[i] for i in range(10)])\n",
    "            n_score = enc.transform(np.expand_dims(score, -1)).toarray()\n",
    "\n",
    "        new_scores_l.append(np.expand_dims(n_score, axis=-1))\n",
    "    return np.concatenate(new_scores_l, axis=-1)\n",
    "\n",
    "with mlflow.start_run() as run:\n",
    "    model_name = \"ensemble_of_models\"\n",
    "    ensemble = Ensemble(models_list, stack_scores=stack_and_onehot_encode)\n",
    "    y_pred = ensemble.predict(None, X_val)\n",
    "    classif = sklearn.metrics.classification_report(y_val, y_pred, output_dict=True)\n",
    "    mlflow.log_dict(classif, \"classification_report.json\")\n",
    "    mlflow.log_metric(\"accuracy\", classif[\"accuracy\"])\n",
    "    print(f\"\\n{classif['accuracy']}\")\n",
    "    run_id = run.info.run_id\n",
    "    mlflow.pyfunc.log_model(model_name, python_model=ensemble, code_path=[\"../mlflow_ensemble/\"])\n",
    "    uri = f\"runs:/{run_id}/{model_name}\"\n",
    "mlflow.end_run()"
   ],
   "metadata": {
    "collapsed": false
   }
  },
  {
   "cell_type": "code",
   "execution_count": 63,
   "outputs": [
    {
     "data": {
      "text/plain": "'runs:/694016acca8d426c80b9aec4780e09a9/ensemble_of_models'"
     },
     "execution_count": 63,
     "metadata": {},
     "output_type": "execute_result"
    }
   ],
   "source": [
    "uri"
   ],
   "metadata": {
    "collapsed": false
   }
  },
  {
   "cell_type": "code",
   "execution_count": 62,
   "outputs": [
    {
     "name": "stdout",
     "output_type": "stream",
     "text": [
      "0.9693593314763231\n"
     ]
    }
   ],
   "source": [
    "model = mlflow.pyfunc.load_model(uri)\n",
    "y_pred = model.predict(X_val)\n",
    "print(sklearn.metrics.classification_report(y_val, y_pred, output_dict=True)['accuracy'])"
   ],
   "metadata": {
    "collapsed": false
   }
  },
  {
   "cell_type": "code",
   "execution_count": 44,
   "outputs": [
    {
     "data": {
      "text/plain": "<bound method BaseSVC.predict of SVC()>"
     },
     "execution_count": 44,
     "metadata": {},
     "output_type": "execute_result"
    }
   ],
   "source": [
    "model._predict_fn"
   ],
   "metadata": {
    "collapsed": false
   }
  },
  {
   "cell_type": "code",
   "execution_count": null,
   "outputs": [],
   "source": [],
   "metadata": {
    "collapsed": false
   }
  },
  {
   "cell_type": "code",
   "execution_count": null,
   "outputs": [],
   "source": [],
   "metadata": {
    "collapsed": false
   }
  },
  {
   "cell_type": "code",
   "execution_count": 17,
   "outputs": [
    {
     "data": {
      "text/plain": "['runs:/3c7be5215a9747e8b5c756dd86b78505/classif_model',\n 'runs:/9171e646440a469db55546c00a1c533d/classif_model',\n 'runs:/e95a8b3065cb4c34b86350a0d763b33c/classif_model',\n 'runs:/3acd297f62e247688de67546503e8b3e/classif_model']"
     },
     "execution_count": 17,
     "metadata": {},
     "output_type": "execute_result"
    }
   ],
   "source": [
    "models_list"
   ],
   "metadata": {
    "collapsed": false
   }
  }
 ],
 "metadata": {
  "kernelspec": {
   "display_name": "Python 3",
   "language": "python",
   "name": "python3"
  },
  "language_info": {
   "codemirror_mode": {
    "name": "ipython",
    "version": 2
   },
   "file_extension": ".py",
   "mimetype": "text/x-python",
   "name": "python",
   "nbconvert_exporter": "python",
   "pygments_lexer": "ipython2",
   "version": "2.7.6"
  }
 },
 "nbformat": 4,
 "nbformat_minor": 0
}
