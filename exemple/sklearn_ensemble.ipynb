{
 "cells": [
  {
   "cell_type": "code",
   "execution_count": 1,
   "metadata": {
    "collapsed": true
   },
   "outputs": [],
   "source": [
    "import numpy as np\n",
    "import sklearn"
   ]
  },
  {
   "cell_type": "code",
   "execution_count": 2,
   "outputs": [],
   "source": [
    "from sklearn.datasets import load_digits\n",
    "\n",
    "X, y = load_digits(return_X_y=True)"
   ],
   "metadata": {
    "collapsed": false
   }
  },
  {
   "cell_type": "code",
   "execution_count": 3,
   "outputs": [],
   "source": [
    "from sklearn.model_selection import train_test_split\n",
    "\n",
    "X_train, X_test, y_train, y_test = train_test_split(X, y, train_size=0.6)\n",
    "X_val, X_test, y_val, y_test = train_test_split(X_test, y_test , train_size=0.5)"
   ],
   "metadata": {
    "collapsed": false
   }
  },
  {
   "cell_type": "code",
   "execution_count": 4,
   "outputs": [],
   "source": [
    "import mlflow\n",
    "\n",
    "\n",
    "def log_metrics(true, pred):\n",
    "    classif = sklearn.metrics.classification_report(true, pred, output_dict=True)\n",
    "    mlflow.log_dict(classif, \"classification_report.json\")\n",
    "    mlflow.log_metric(\"accuracy\", classif[\"accuracy\"])\n",
    "    print(f\"\\n{classif['accuracy']}\")\n",
    "\n",
    "\n",
    "def train(model, X_train, X_val, y_train, y_val):\n",
    "    with mlflow.start_run() as run:\n",
    "        model.fit(X_train, y_train)\n",
    "        y_pred = model.predict(X_val)\n",
    "        model_name = \"classif_model\"\n",
    "        log_metrics(y_val, y_pred)\n",
    "        run_id = run.info.run_id\n",
    "        mlflow.sklearn.log_model(model, model_name)\n",
    "    mlflow.end_run()\n",
    "    uri = f\"runs:/{run_id}/{model_name}\"\n",
    "    return model, uri"
   ],
   "metadata": {
    "collapsed": false
   }
  },
  {
   "cell_type": "markdown",
   "source": [
    "## Models training"
   ],
   "metadata": {
    "collapsed": false
   }
  },
  {
   "cell_type": "code",
   "execution_count": 5,
   "outputs": [
    {
     "name": "stdout",
     "output_type": "stream",
     "text": [
      "\n",
      "0.947075208913649\n"
     ]
    },
    {
     "name": "stderr",
     "output_type": "stream",
     "text": [
      "/home/alex/Documents/MLflow_ensemble/venv/lib/python3.9/site-packages/_distutils_hack/__init__.py:36: UserWarning: Setuptools is replacing distutils.\n",
      "  warnings.warn(\"Setuptools is replacing distutils.\")\n"
     ]
    },
    {
     "name": "stdout",
     "output_type": "stream",
     "text": [
      "\n",
      "0.9387186629526463\n"
     ]
    }
   ],
   "source": [
    "from sklearn.ensemble import RandomForestClassifier\n",
    "models_list = []\n",
    "\n",
    "model, uri = train(RandomForestClassifier(n_estimators=200, max_depth=5),\n",
    "                   X_train, X_val, y_train, y_val)\n",
    "models_list.append(uri)\n",
    "model, uri = train(RandomForestClassifier(n_estimators=50, max_depth=5),\n",
    "                   X_train, X_val, y_train, y_val)\n",
    "models_list.append(uri)\n",
    "models_list_2RF = models_list"
   ],
   "metadata": {
    "collapsed": false
   }
  },
  {
   "cell_type": "markdown",
   "source": [
    "## From a list of models, we can create an ensemble model\n",
    "By default it expects all models to give same format outputs, it makes prediction by averaging the models scores."
   ],
   "metadata": {
    "collapsed": false
   }
  },
  {
   "cell_type": "code",
   "execution_count": 6,
   "outputs": [
    {
     "name": "stdout",
     "output_type": "stream",
     "text": [
      "/home/alex/Documents/MLflow_ensemble\n",
      "/home/alex/Documents/MLflow_ensemble/exemple\n",
      "\n",
      "0.9498607242339833\n"
     ]
    }
   ],
   "source": [
    "%cd ..\n",
    "from mlflow_ensemble.ensemble_model import Ensemble\n",
    "%cd exemple\n",
    "\n",
    "with mlflow.start_run() as run:\n",
    "    model_name = \"ensemble_of_models\"\n",
    "\n",
    "    ensemble = Ensemble(models_list)\n",
    "    y_pred = ensemble.predict(None, X_val)\n",
    "    log_metrics(y_val, y_pred)\n",
    "    mlflow.pyfunc.log_model(model_name, python_model=ensemble,\n",
    "                            pip_requirements=[\"scikit-learn\"],\n",
    "                            code_path=[\"../mlflow_ensemble/\"])\n",
    "    uri = f\"runs:/{run.info.run_id}/{model_name}\"\n",
    "mlflow.end_run()"
   ],
   "metadata": {
    "collapsed": false
   }
  },
  {
   "cell_type": "markdown",
   "source": [
    "## Model loading and inference\n",
    "After ensemble creation and logging, you can load it and use it for predictions."
   ],
   "metadata": {
    "collapsed": false
   }
  },
  {
   "cell_type": "code",
   "execution_count": 7,
   "outputs": [
    {
     "name": "stdout",
     "output_type": "stream",
     "text": [
      "              precision    recall  f1-score   support\n",
      "\n",
      "           0       0.97      0.97      0.97        37\n",
      "           1       0.94      0.97      0.96        33\n",
      "           2       0.97      0.89      0.93        38\n",
      "           3       0.93      0.98      0.95        41\n",
      "           4       0.88      0.97      0.92        30\n",
      "           5       0.95      0.97      0.96        40\n",
      "           6       0.98      0.98      0.98        43\n",
      "           7       0.92      1.00      0.96        33\n",
      "           8       0.97      0.89      0.93        35\n",
      "           9       1.00      0.86      0.93        29\n",
      "\n",
      "    accuracy                           0.95       359\n",
      "   macro avg       0.95      0.95      0.95       359\n",
      "weighted avg       0.95      0.95      0.95       359\n",
      "\n",
      "              precision    recall  f1-score   support\n",
      "\n",
      "           0       0.95      0.97      0.96        37\n",
      "           1       0.89      0.95      0.92        41\n",
      "           2       1.00      1.00      1.00        41\n",
      "           3       0.94      0.91      0.92        33\n",
      "           4       0.97      1.00      0.99        34\n",
      "           5       0.95      0.90      0.92        40\n",
      "           6       0.94      0.97      0.95        31\n",
      "           7       0.95      1.00      0.97        36\n",
      "           8       0.91      0.83      0.87        35\n",
      "           9       0.93      0.88      0.90        32\n",
      "\n",
      "    accuracy                           0.94       360\n",
      "   macro avg       0.94      0.94      0.94       360\n",
      "weighted avg       0.94      0.94      0.94       360\n",
      "\n"
     ]
    }
   ],
   "source": [
    "model = mlflow.pyfunc.load_model(uri)\n",
    "print(sklearn.metrics.classification_report(y_val, y_pred, output_dict=False))\n",
    "y_pred = model.predict(X_test)\n",
    "print(sklearn.metrics.classification_report(y_test, y_pred, output_dict=False))"
   ],
   "metadata": {
    "collapsed": false
   }
  },
  {
   "cell_type": "markdown",
   "source": [
    "## More models and different outputs\n",
    "Here we train more models, from different natures."
   ],
   "metadata": {
    "collapsed": false
   }
  },
  {
   "cell_type": "code",
   "execution_count": 8,
   "outputs": [
    {
     "name": "stdout",
     "output_type": "stream",
     "text": [
      "\n",
      "0.9498607242339833\n",
      "\n",
      "0.9498607242339833\n"
     ]
    },
    {
     "name": "stderr",
     "output_type": "stream",
     "text": [
      "/home/alex/Documents/MLflow_ensemble/venv/lib/python3.9/site-packages/sklearn/linear_model/_logistic.py:444: ConvergenceWarning: lbfgs failed to converge (status=1):\n",
      "STOP: TOTAL NO. of ITERATIONS REACHED LIMIT.\n",
      "\n",
      "Increase the number of iterations (max_iter) or scale the data as shown in:\n",
      "    https://scikit-learn.org/stable/modules/preprocessing.html\n",
      "Please also refer to the documentation for alternative solver options:\n",
      "    https://scikit-learn.org/stable/modules/linear_model.html#logistic-regression\n",
      "  n_iter_i = _check_optimize_result(\n"
     ]
    },
    {
     "name": "stdout",
     "output_type": "stream",
     "text": [
      "\n",
      "0.9665738161559888\n",
      "\n",
      "0.9972144846796658\n"
     ]
    }
   ],
   "source": [
    "from sklearn.ensemble import RandomForestClassifier\n",
    "from sklearn.linear_model import LogisticRegression\n",
    "from sklearn.svm import SVC\n",
    "\n",
    "models_list = []\n",
    "\n",
    "model, uri = train(RandomForestClassifier(n_estimators=200, max_depth=5),\n",
    "                   X_train, X_val, y_train, y_val)\n",
    "models_list.append(uri)\n",
    "\n",
    "model, uri = train(RandomForestClassifier(n_estimators=200, max_depth=5),\n",
    "                   X_train, X_val, y_train, y_val)\n",
    "models_list.append(uri)\n",
    "\n",
    "model, uri = train(LogisticRegression(),\n",
    "                   X_train, X_val, y_train, y_val)\n",
    "models_list.append(uri)\n",
    "\n",
    "model, uri = train(SVC(),\n",
    "                   X_train, X_val, y_train, y_val)\n",
    "models_list.append(uri)"
   ],
   "metadata": {
    "collapsed": false
   }
  },
  {
   "cell_type": "markdown",
   "source": [
    "## Custom stacking function\n",
    "Here, the SVC model can't output class probabilities (predict_proba() not available so ensemble model calls predict()).\n",
    "Here is an exemple where we give a custom scores stacking function to ensure the default ensembling method (averaging then argmax) still works. If a models output is a 1d array, we one-hot encode it in a 2d array."
   ],
   "metadata": {
    "collapsed": false
   }
  },
  {
   "cell_type": "code",
   "execution_count": 9,
   "outputs": [
    {
     "name": "stdout",
     "output_type": "stream",
     "text": [
      "/home/alex/Documents/MLflow_ensemble\n",
      "/home/alex/Documents/MLflow_ensemble/exemple\n",
      "(359, 10)\n",
      "(359, 10)\n",
      "(359, 10)\n",
      "(359,)\n",
      "OneHotEncoding\n",
      "(4, 359, 10)\n",
      "\n",
      "0.9944289693593314\n"
     ]
    }
   ],
   "source": [
    "%cd ..\n",
    "from mlflow_ensemble.ensemble_model import Ensemble\n",
    "%cd exemple\n",
    "from sklearn.preprocessing import OneHotEncoder\n",
    "import numpy as np\n",
    "\n",
    "\n",
    "def stack_with_onehot(scores):\n",
    "    new_scores= []\n",
    "    for score in scores:\n",
    "        print(score.shape)\n",
    "        if len(score.shape) == 1:\n",
    "            print(\"OneHotEncoding\")\n",
    "            enc = OneHotEncoder()\n",
    "            enc.fit([[i] for i in range(np.min(score), np.max(score) + 1)])\n",
    "            score = enc.transform(np.expand_dims(score, -1)).toarray()\n",
    "        new_scores.append(score)\n",
    "\n",
    "    scores = np.array(new_scores)\n",
    "    print(scores.shape)\n",
    "    return scores\n",
    "\n",
    "with mlflow.start_run() as run:\n",
    "    model_name = \"ensemble_of_models\"\n",
    "\n",
    "    ensemble = Ensemble(models_list, stack_scores=stack_with_onehot)\n",
    "\n",
    "    y_pred = ensemble.predict(None, X_val)\n",
    "    log_metrics(y_val, y_pred)\n",
    "    mlflow.pyfunc.log_model(model_name, python_model=ensemble,\n",
    "                            pip_requirements=[\"scikit-learn\"],\n",
    "                            code_path=[\"../mlflow_ensemble/\"])\n",
    "    uri = f\"runs:/{run.info.run_id}/{model_name}\"\n",
    "mlflow.end_run()"
   ],
   "metadata": {
    "collapsed": false
   }
  },
  {
   "cell_type": "code",
   "execution_count": 10,
   "outputs": [
    {
     "name": "stdout",
     "output_type": "stream",
     "text": [
      "(359, 10)\n",
      "(359, 10)\n",
      "(359, 10)\n",
      "(359,)\n",
      "OneHotEncoding\n",
      "(4, 359, 10)\n",
      "              precision    recall  f1-score   support\n",
      "\n",
      "           0       1.00      0.97      0.99        37\n",
      "           1       1.00      1.00      1.00        33\n",
      "           2       1.00      1.00      1.00        38\n",
      "           3       1.00      1.00      1.00        41\n",
      "           4       0.97      1.00      0.98        30\n",
      "           5       1.00      1.00      1.00        40\n",
      "           6       1.00      0.98      0.99        43\n",
      "           7       1.00      1.00      1.00        33\n",
      "           8       0.97      1.00      0.99        35\n",
      "           9       1.00      1.00      1.00        29\n",
      "\n",
      "    accuracy                           0.99       359\n",
      "   macro avg       0.99      0.99      0.99       359\n",
      "weighted avg       0.99      0.99      0.99       359\n",
      "\n",
      "(360, 10)\n",
      "(360, 10)\n",
      "(360, 10)\n",
      "(360,)\n",
      "OneHotEncoding\n",
      "(4, 360, 10)\n",
      "              precision    recall  f1-score   support\n",
      "\n",
      "           0       1.00      1.00      1.00        37\n",
      "           1       0.95      1.00      0.98        41\n",
      "           2       1.00      1.00      1.00        41\n",
      "           3       1.00      0.97      0.98        33\n",
      "           4       1.00      1.00      1.00        34\n",
      "           5       0.97      0.95      0.96        40\n",
      "           6       0.97      1.00      0.98        31\n",
      "           7       1.00      1.00      1.00        36\n",
      "           8       1.00      0.91      0.96        35\n",
      "           9       0.91      0.97      0.94        32\n",
      "\n",
      "    accuracy                           0.98       360\n",
      "   macro avg       0.98      0.98      0.98       360\n",
      "weighted avg       0.98      0.98      0.98       360\n",
      "\n"
     ]
    }
   ],
   "source": [
    "model = mlflow.pyfunc.load_model(uri)\n",
    "y_pred = model.predict(X_val)\n",
    "print(sklearn.metrics.classification_report(y_val, y_pred, output_dict=False))\n",
    "y_pred = model.predict(X_test)\n",
    "print(sklearn.metrics.classification_report(y_test, y_pred, output_dict=False))"
   ],
   "metadata": {
    "collapsed": false
   }
  },
  {
   "cell_type": "markdown",
   "source": [
    "## Meta model\n",
    "We can train a new model on top of models scores. Be carefull, It may overfit easily."
   ],
   "metadata": {
    "collapsed": false
   }
  },
  {
   "cell_type": "code",
   "execution_count": 11,
   "outputs": [
    {
     "name": "stdout",
     "output_type": "stream",
     "text": [
      "/home/alex/Documents/MLflow_ensemble\n",
      "/home/alex/Documents/MLflow_ensemble/exemple\n",
      "              precision    recall  f1-score   support\n",
      "\n",
      "           0       1.00      1.00      1.00        37\n",
      "           1       0.97      1.00      0.99        33\n",
      "           2       1.00      1.00      1.00        38\n",
      "           3       1.00      1.00      1.00        41\n",
      "           4       1.00      1.00      1.00        30\n",
      "           5       1.00      1.00      1.00        40\n",
      "           6       1.00      1.00      1.00        43\n",
      "           7       1.00      1.00      1.00        33\n",
      "           8       1.00      1.00      1.00        35\n",
      "           9       1.00      0.97      0.98        29\n",
      "\n",
      "    accuracy                           1.00       359\n",
      "   macro avg       1.00      1.00      1.00       359\n",
      "weighted avg       1.00      1.00      1.00       359\n",
      "\n",
      "              precision    recall  f1-score   support\n",
      "\n",
      "           0       0.07      0.08      0.07        37\n",
      "           1       0.12      0.07      0.09        41\n",
      "           2       0.20      0.24      0.22        41\n",
      "           3       0.11      0.18      0.13        33\n",
      "           4       0.06      0.03      0.04        34\n",
      "           5       0.12      0.12      0.12        40\n",
      "           6       0.08      0.16      0.11        31\n",
      "           7       0.17      0.08      0.11        36\n",
      "           8       0.16      0.14      0.15        35\n",
      "           9       0.08      0.03      0.05        32\n",
      "\n",
      "    accuracy                           0.12       360\n",
      "   macro avg       0.12      0.12      0.11       360\n",
      "weighted avg       0.12      0.12      0.11       360\n",
      "\n"
     ]
    }
   ],
   "source": [
    "%cd ..\n",
    "from mlflow_ensemble.ensemble_model import Ensemble\n",
    "%cd exemple\n",
    "import numpy as np\n",
    "\n",
    "def hstack_with_onehot(scores):\n",
    "    new_scores_l= []\n",
    "    for score in scores:\n",
    "        n_score = score\n",
    "        if len(score.shape) == 1:\n",
    "            enc = OneHotEncoder()\n",
    "            enc.fit([[i] for i in range(10)])\n",
    "            n_score = enc.transform(np.expand_dims(score, -1)).toarray()\n",
    "        new_scores_l.append(n_score)\n",
    "    scores = np.array(new_scores_l)\n",
    "    scores = np.reshape(scores, (scores.shape[1], -1))\n",
    "    return scores\n",
    "\n",
    "\n",
    "def hstack_class_preds(scores):\n",
    "    new_scores_l= []\n",
    "    for score in scores:\n",
    "        if len(score.shape) > 1:\n",
    "            score = np.argmax(score, -1)\n",
    "        new_scores_l.append(score)\n",
    "    scores = np.array(new_scores_l)\n",
    "    scores = np.reshape(scores, (scores.shape[1], -1))\n",
    "    return scores\n",
    "\n",
    "\n",
    "ensemble = Ensemble(models_list, ensemble_method=\"meta_model\", stack_scores=hstack_with_onehot)\n",
    "ensemble.fit(RandomForestClassifier(n_estimators=200, max_depth=8), X_val, y_val, force_scores_compute=True)\n",
    "y_pred = ensemble.predict(None, X_val)\n",
    "print(sklearn.metrics.classification_report(y_val, y_pred, output_dict=False))\n",
    "y_pred = ensemble.predict(None, X_test)\n",
    "print(sklearn.metrics.classification_report(y_test, y_pred, output_dict=False))"
   ],
   "metadata": {
    "collapsed": false
   }
  },
  {
   "cell_type": "markdown",
   "source": [
    "## Weighting average\n",
    "One can create a custom weigthed average meta-model, wich we can optimize with optuna\n",
    "We just have to specify fit() and predict().\n",
    "Be sure to also specify optuna in requirements when you log the ensemble model."
   ],
   "metadata": {
    "collapsed": false
   }
  },
  {
   "cell_type": "code",
   "execution_count": 12,
   "outputs": [
    {
     "name": "stderr",
     "output_type": "stream",
     "text": [
      "\u001B[32m[I 2022-12-12 17:46:32,706]\u001B[0m A new study created in memory with name: no-name-f1d4930c-f20f-4ab1-afbf-862b3889803f\u001B[0m\n",
      "\u001B[32m[I 2022-12-12 17:46:32,710]\u001B[0m Trial 0 finished with value: 0.9805013927576601 and parameters: {'x_0': 0.679614986596895, 'x_1': 0.23861832368024705, 'x_2': 0.8220517193605509, 'x_3': 0.5054519097141983}. Best is trial 0 with value: 0.9805013927576601.\u001B[0m\n",
      "\u001B[32m[I 2022-12-12 17:46:32,712]\u001B[0m Trial 1 finished with value: 0.9832869080779945 and parameters: {'x_0': 0.1504298538467277, 'x_1': 0.29820146349610654, 'x_2': 0.9340464969048645, 'x_3': 0.7024013167295257}. Best is trial 1 with value: 0.9832869080779945.\u001B[0m\n",
      "\u001B[32m[I 2022-12-12 17:46:32,714]\u001B[0m Trial 2 finished with value: 0.9972144846796658 and parameters: {'x_0': 0.9327162169547715, 'x_1': 0.785062759512272, 'x_2': 0.07663807406041412, 'x_3': 0.9299024439876066}. Best is trial 2 with value: 0.9972144846796658.\u001B[0m\n",
      "\u001B[32m[I 2022-12-12 17:46:32,717]\u001B[0m Trial 3 finished with value: 0.9721448467966574 and parameters: {'x_0': 0.04135915650139854, 'x_1': 0.6140919180547956, 'x_2': 0.9532814196468696, 'x_3': 0.20074498971275356}. Best is trial 2 with value: 0.9972144846796658.\u001B[0m\n",
      "\u001B[32m[I 2022-12-12 17:46:32,719]\u001B[0m Trial 4 finished with value: 0.9777158774373259 and parameters: {'x_0': 0.9866853937639273, 'x_1': 0.4635769419093573, 'x_2': 0.5683188764264259, 'x_3': 0.19731215575990724}. Best is trial 2 with value: 0.9972144846796658.\u001B[0m\n",
      "\u001B[32m[I 2022-12-12 17:46:32,721]\u001B[0m Trial 5 finished with value: 0.9777158774373259 and parameters: {'x_0': 0.11361518397602033, 'x_1': 0.7522352359437559, 'x_2': 0.8878947666272248, 'x_3': 0.27943181124415395}. Best is trial 2 with value: 0.9972144846796658.\u001B[0m\n",
      "\u001B[32m[I 2022-12-12 17:46:32,723]\u001B[0m Trial 6 finished with value: 0.9972144846796658 and parameters: {'x_0': 0.31289897013084433, 'x_1': 0.15295934259060395, 'x_2': 0.7060933102728959, 'x_3': 0.9732545856799693}. Best is trial 2 with value: 0.9972144846796658.\u001B[0m\n",
      "\u001B[32m[I 2022-12-12 17:46:32,726]\u001B[0m Trial 7 finished with value: 0.9665738161559888 and parameters: {'x_0': 0.5151906836384057, 'x_1': 0.2070053072500072, 'x_2': 0.02900074835987665, 'x_3': 0.010694228785756654}. Best is trial 2 with value: 0.9972144846796658.\u001B[0m\n",
      "\u001B[32m[I 2022-12-12 17:46:32,729]\u001B[0m Trial 8 finished with value: 0.9972144846796658 and parameters: {'x_0': 0.684344554677874, 'x_1': 0.1683124244429156, 'x_2': 0.3872985287932983, 'x_3': 0.6783882835570083}. Best is trial 2 with value: 0.9972144846796658.\u001B[0m\n",
      "\u001B[32m[I 2022-12-12 17:46:32,732]\u001B[0m Trial 9 finished with value: 0.9916434540389972 and parameters: {'x_0': 0.11652652345886716, 'x_1': 0.8436019883265237, 'x_2': 0.7989248170217094, 'x_3': 0.7280989025025717}. Best is trial 2 with value: 0.9972144846796658.\u001B[0m\n",
      "\u001B[32m[I 2022-12-12 17:46:32,753]\u001B[0m Trial 10 finished with value: 0.9972144846796658 and parameters: {'x_0': 0.9854368841747364, 'x_1': 0.9510854977558112, 'x_2': 0.05731780856928555, 'x_3': 0.9894527762050503}. Best is trial 2 with value: 0.9972144846796658.\u001B[0m\n",
      "\u001B[32m[I 2022-12-12 17:46:32,772]\u001B[0m Trial 11 finished with value: 0.9972144846796658 and parameters: {'x_0': 0.3303714006082489, 'x_1': 0.44814368452458725, 'x_2': 0.3247191896359712, 'x_3': 0.9799400577281545}. Best is trial 2 with value: 0.9972144846796658.\u001B[0m\n",
      "\u001B[32m[I 2022-12-12 17:46:32,791]\u001B[0m Trial 12 finished with value: 0.9972144846796658 and parameters: {'x_0': 0.3899627039117633, 'x_1': 0.05493298723256686, 'x_2': 0.6288733766328582, 'x_3': 0.8473441234112675}. Best is trial 2 with value: 0.9972144846796658.\u001B[0m\n",
      "\u001B[32m[I 2022-12-12 17:46:32,829]\u001B[0m Trial 13 finished with value: 0.9972144846796658 and parameters: {'x_0': 0.7845186487281682, 'x_1': 0.6362051157755921, 'x_2': 0.2340982895730231, 'x_3': 0.8467561137295712}. Best is trial 2 with value: 0.9972144846796658.\u001B[0m\n",
      "\u001B[32m[I 2022-12-12 17:46:32,869]\u001B[0m Trial 14 finished with value: 0.9832869080779945 and parameters: {'x_0': 0.27234851473690336, 'x_1': 0.028343369259267143, 'x_2': 0.6852283055882501, 'x_3': 0.542899849461512}. Best is trial 2 with value: 0.9972144846796658.\u001B[0m\n"
     ]
    },
    {
     "name": "stdout",
     "output_type": "stream",
     "text": [
      "(4, 359, 10)\n"
     ]
    },
    {
     "name": "stderr",
     "output_type": "stream",
     "text": [
      "\u001B[32m[I 2022-12-12 17:46:32,903]\u001B[0m Trial 15 finished with value: 0.9972144846796658 and parameters: {'x_0': 0.6005873396642156, 'x_1': 0.9895139709535713, 'x_2': 0.455701264318713, 'x_3': 0.8729114127677584}. Best is trial 2 with value: 0.9972144846796658.\u001B[0m\n",
      "\u001B[32m[I 2022-12-12 17:46:32,940]\u001B[0m Trial 16 finished with value: 0.9944289693593314 and parameters: {'x_0': 0.843080348600729, 'x_1': 0.35138039685105815, 'x_2': 0.19693695537439448, 'x_3': 0.3746906752025694}. Best is trial 2 with value: 0.9972144846796658.\u001B[0m\n",
      "\u001B[32m[I 2022-12-12 17:46:32,960]\u001B[0m Trial 17 finished with value: 0.9972144846796658 and parameters: {'x_0': 0.7819683827419739, 'x_1': 0.6240555827037012, 'x_2': 0.3996842008740444, 'x_3': 0.679690026781487}. Best is trial 2 with value: 0.9972144846796658.\u001B[0m\n",
      "\u001B[32m[I 2022-12-12 17:46:32,982]\u001B[0m Trial 18 finished with value: 0.9972144846796658 and parameters: {'x_0': 0.6084823609247133, 'x_1': 0.9851529462244442, 'x_2': 0.46944124999486214, 'x_3': 0.5966786328350998}. Best is trial 2 with value: 0.9972144846796658.\u001B[0m\n",
      "\u001B[32m[I 2022-12-12 17:46:33,003]\u001B[0m Trial 19 finished with value: 0.9972144846796658 and parameters: {'x_0': 0.4818792479675173, 'x_1': 0.8417848855733938, 'x_2': 0.16506059370561427, 'x_3': 0.42408907670853174}. Best is trial 2 with value: 0.9972144846796658.\u001B[0m\n",
      "\u001B[32m[I 2022-12-12 17:46:33,023]\u001B[0m Trial 20 finished with value: 0.9972144846796658 and parameters: {'x_0': 0.4610557690175826, 'x_1': 0.6274436737247359, 'x_2': 0.21585092765554428, 'x_3': 0.4104656129340542}. Best is trial 2 with value: 0.9972144846796658.\u001B[0m\n",
      "\u001B[32m[I 2022-12-12 17:46:33,043]\u001B[0m Trial 21 finished with value: 0.9972144846796658 and parameters: {'x_0': 0.8640675639615494, 'x_1': 0.9643630684764448, 'x_2': 0.49526473025611, 'x_3': 0.6044657809558419}. Best is trial 2 with value: 0.9972144846796658.\u001B[0m\n",
      "\u001B[32m[I 2022-12-12 17:46:33,062]\u001B[0m Trial 22 finished with value: 0.9972144846796658 and parameters: {'x_0': 0.5510682431741789, 'x_1': 0.8825473973513304, 'x_2': 0.12236460080722195, 'x_3': 0.4110522252628377}. Best is trial 2 with value: 0.9972144846796658.\u001B[0m\n",
      "\u001B[32m[I 2022-12-12 17:46:33,083]\u001B[0m Trial 23 finished with value: 0.9972144846796658 and parameters: {'x_0': 0.43649544409781804, 'x_1': 0.4706326362041877, 'x_2': 0.29009458795437365, 'x_3': 0.4067827538426222}. Best is trial 2 with value: 0.9972144846796658.\u001B[0m\n",
      "\u001B[32m[I 2022-12-12 17:46:33,103]\u001B[0m Trial 24 finished with value: 0.9888579387186629 and parameters: {'x_0': 0.3245061794194669, 'x_1': 0.39954765822540456, 'x_2': 0.35643993845470295, 'x_3': 0.26974712714584925}. Best is trial 2 with value: 0.9972144846796658.\u001B[0m\n",
      "\u001B[32m[I 2022-12-12 17:46:33,124]\u001B[0m Trial 25 finished with value: 0.9972144846796658 and parameters: {'x_0': 0.8056859655326666, 'x_1': 0.5732050313026741, 'x_2': 0.5931976874239313, 'x_3': 0.8545777206233784}. Best is trial 2 with value: 0.9972144846796658.\u001B[0m\n",
      "\u001B[32m[I 2022-12-12 17:46:33,145]\u001B[0m Trial 26 finished with value: 0.9972144846796658 and parameters: {'x_0': 0.4215140560449422, 'x_1': 0.06896000279103882, 'x_2': 0.1422650834778235, 'x_3': 0.3342593181013283}. Best is trial 2 with value: 0.9972144846796658.\u001B[0m\n",
      "\u001B[32m[I 2022-12-12 17:46:33,166]\u001B[0m Trial 27 finished with value: 0.9972144846796658 and parameters: {'x_0': 0.5770398116350944, 'x_1': 0.6971575159463684, 'x_2': 0.25147660940254, 'x_3': 0.46367001087270954}. Best is trial 2 with value: 0.9972144846796658.\u001B[0m\n",
      "\u001B[32m[I 2022-12-12 17:46:33,189]\u001B[0m Trial 28 finished with value: 0.9972144846796658 and parameters: {'x_0': 0.7633619757829229, 'x_1': 0.514700959087929, 'x_2': 0.2814847117394256, 'x_3': 0.7628764964687986}. Best is trial 2 with value: 0.9972144846796658.\u001B[0m\n",
      "\u001B[32m[I 2022-12-12 17:46:33,212]\u001B[0m Trial 29 finished with value: 0.9972144846796658 and parameters: {'x_0': 0.7195567573472541, 'x_1': 0.8996987803970179, 'x_2': 0.44333282629902193, 'x_3': 0.5620819859582686}. Best is trial 2 with value: 0.9972144846796658.\u001B[0m\n",
      "\u001B[32m[I 2022-12-12 17:46:33,232]\u001B[0m Trial 30 finished with value: 0.9972144846796658 and parameters: {'x_0': 0.7124354878044259, 'x_1': 0.8795193595596649, 'x_2': 0.1785418385409207, 'x_3': 0.49439467104183044}. Best is trial 2 with value: 0.9972144846796658.\u001B[0m\n",
      "\u001B[32m[I 2022-12-12 17:46:33,253]\u001B[0m Trial 31 finished with value: 0.9972144846796658 and parameters: {'x_0': 0.5943659649163535, 'x_1': 0.7229259173597051, 'x_2': 0.2667396715622392, 'x_3': 0.7711938347882652}. Best is trial 2 with value: 0.9972144846796658.\u001B[0m\n",
      "\u001B[32m[I 2022-12-12 17:46:33,276]\u001B[0m Trial 32 finished with value: 0.9972144846796658 and parameters: {'x_0': 0.7304202693700937, 'x_1': 0.6913486202509901, 'x_2': 0.43906611310175575, 'x_3': 0.7837135288732163}. Best is trial 2 with value: 0.9972144846796658.\u001B[0m\n",
      "\u001B[32m[I 2022-12-12 17:46:33,299]\u001B[0m Trial 33 finished with value: 0.9944289693593314 and parameters: {'x_0': 0.6398925300875911, 'x_1': 0.7889826840840395, 'x_2': 0.5583160457072058, 'x_3': 0.6174578285299439}. Best is trial 2 with value: 0.9972144846796658.\u001B[0m\n",
      "\u001B[32m[I 2022-12-12 17:46:33,320]\u001B[0m Trial 34 finished with value: 0.9805013927576601 and parameters: {'x_0': 0.2361384545289985, 'x_1': 0.8308955906306804, 'x_2': 0.31591560235780114, 'x_3': 0.09197377539938045}. Best is trial 2 with value: 0.9972144846796658.\u001B[0m\n",
      "\u001B[32m[I 2022-12-12 17:46:33,342]\u001B[0m Trial 35 finished with value: 0.9972144846796658 and parameters: {'x_0': 0.4066143145183809, 'x_1': 0.5418252459227668, 'x_2': 0.11364589093504956, 'x_3': 0.3452165304368684}. Best is trial 2 with value: 0.9972144846796658.\u001B[0m\n",
      "\u001B[32m[I 2022-12-12 17:46:33,364]\u001B[0m Trial 36 finished with value: 0.9972144846796658 and parameters: {'x_0': 0.9094112737278941, 'x_1': 0.7130598174451346, 'x_2': 0.3977545177610742, 'x_3': 0.7582375990384599}. Best is trial 2 with value: 0.9972144846796658.\u001B[0m\n",
      "\u001B[32m[I 2022-12-12 17:46:33,384]\u001B[0m Trial 37 finished with value: 0.9972144846796658 and parameters: {'x_0': 0.650064157844852, 'x_1': 0.9093537469708385, 'x_2': 0.49809532496493014, 'x_3': 0.6359682362118007}. Best is trial 2 with value: 0.9972144846796658.\u001B[0m\n",
      "\u001B[32m[I 2022-12-12 17:46:33,406]\u001B[0m Trial 38 finished with value: 0.9972144846796658 and parameters: {'x_0': 0.4942717913552546, 'x_1': 0.9802858737842423, 'x_2': 0.5120019533433507, 'x_3': 0.5899698967510439}. Best is trial 2 with value: 0.9972144846796658.\u001B[0m\n",
      "\u001B[32m[I 2022-12-12 17:46:33,427]\u001B[0m Trial 39 finished with value: 0.9972144846796658 and parameters: {'x_0': 0.5257752515223116, 'x_1': 0.8319734189129827, 'x_2': 0.0030562280346637938, 'x_3': 0.4407609841151972}. Best is trial 2 with value: 0.9972144846796658.\u001B[0m\n",
      "\u001B[32m[I 2022-12-12 17:46:33,449]\u001B[0m Trial 40 finished with value: 0.9944289693593314 and parameters: {'x_0': 0.5007663214092515, 'x_1': 0.7923273059897568, 'x_2': 0.10229126164388175, 'x_3': 0.25942710827018645}. Best is trial 2 with value: 0.9972144846796658.\u001B[0m\n",
      "\u001B[32m[I 2022-12-12 17:46:33,476]\u001B[0m Trial 41 finished with value: 0.9888579387186629 and parameters: {'x_0': 0.40617911776247195, 'x_1': 0.5759050270162644, 'x_2': 0.5975563002785458, 'x_3': 0.5189181186844886}. Best is trial 2 with value: 0.9972144846796658.\u001B[0m\n",
      "\u001B[32m[I 2022-12-12 17:46:33,504]\u001B[0m Trial 42 finished with value: 0.9972144846796658 and parameters: {'x_0': 0.6997943904431375, 'x_1': 0.2882191403630257, 'x_2': 0.23011774552297234, 'x_3': 0.3296556334873951}. Best is trial 2 with value: 0.9972144846796658.\u001B[0m\n",
      "\u001B[32m[I 2022-12-12 17:46:33,525]\u001B[0m Trial 43 finished with value: 0.9944289693593314 and parameters: {'x_0': 0.8306034824634894, 'x_1': 0.11388189939409998, 'x_2': 0.12208697888207373, 'x_3': 0.1919742752890671}. Best is trial 2 with value: 0.9972144846796658.\u001B[0m\n",
      "\u001B[32m[I 2022-12-12 17:46:33,549]\u001B[0m Trial 44 finished with value: 0.9832869080779945 and parameters: {'x_0': 0.8771831092121153, 'x_1': 0.532254998901901, 'x_2': 0.7433003451557021, 'x_3': 0.4916769224790179}. Best is trial 2 with value: 0.9972144846796658.\u001B[0m\n",
      "\u001B[32m[I 2022-12-12 17:46:33,572]\u001B[0m Trial 45 finished with value: 0.9972144846796658 and parameters: {'x_0': 0.7082684465646049, 'x_1': 0.9132250255462688, 'x_2': 0.06920845650325952, 'x_3': 0.7934509438126943}. Best is trial 2 with value: 0.9972144846796658.\u001B[0m\n",
      "\u001B[32m[I 2022-12-12 17:46:33,593]\u001B[0m Trial 46 finished with value: 0.9805013927576601 and parameters: {'x_0': 0.9598978150195254, 'x_1': 0.2852408935822274, 'x_2': 0.6644856649164556, 'x_3': 0.3137894501584188}. Best is trial 2 with value: 0.9972144846796658.\u001B[0m\n",
      "\u001B[32m[I 2022-12-12 17:46:33,618]\u001B[0m Trial 47 finished with value: 0.9944289693593314 and parameters: {'x_0': 0.5436030265971635, 'x_1': 0.9379951680016685, 'x_2': 0.0655871609026801, 'x_3': 0.38097917856830493}. Best is trial 2 with value: 0.9972144846796658.\u001B[0m\n",
      "\u001B[32m[I 2022-12-12 17:46:33,640]\u001B[0m Trial 48 finished with value: 0.9972144846796658 and parameters: {'x_0': 0.7467606861591564, 'x_1': 0.4656208205505885, 'x_2': 0.28782332499579427, 'x_3': 0.5495372570272645}. Best is trial 2 with value: 0.9972144846796658.\u001B[0m\n",
      "\u001B[32m[I 2022-12-12 17:46:33,665]\u001B[0m Trial 49 finished with value: 0.9972144846796658 and parameters: {'x_0': 0.20725630842511095, 'x_1': 0.4590547426156365, 'x_2': 0.31260381607564336, 'x_3': 0.3935093948604843}. Best is trial 2 with value: 0.9972144846796658.\u001B[0m\n",
      "\u001B[32m[I 2022-12-12 17:46:33,689]\u001B[0m Trial 50 finished with value: 0.9972144846796658 and parameters: {'x_0': 0.18327443048970882, 'x_1': 0.45811640792018193, 'x_2': 0.3101018221635118, 'x_3': 0.5456886004669281}. Best is trial 2 with value: 0.9972144846796658.\u001B[0m\n",
      "\u001B[32m[I 2022-12-12 17:46:33,713]\u001B[0m Trial 51 finished with value: 0.9972144846796658 and parameters: {'x_0': 0.00732441274498441, 'x_1': 0.3618923176917061, 'x_2': 0.256496594306069, 'x_3': 0.9422367836250333}. Best is trial 2 with value: 0.9972144846796658.\u001B[0m\n",
      "\u001B[32m[I 2022-12-12 17:46:33,736]\u001B[0m Trial 52 finished with value: 0.9972144846796658 and parameters: {'x_0': 0.3625584545862196, 'x_1': 0.5765841477496455, 'x_2': 0.35502830153155795, 'x_3': 0.467829142728307}. Best is trial 2 with value: 0.9972144846796658.\u001B[0m\n",
      "\u001B[32m[I 2022-12-12 17:46:33,758]\u001B[0m Trial 53 finished with value: 0.9972144846796658 and parameters: {'x_0': 0.07074755746347577, 'x_1': 0.39620610301469394, 'x_2': 0.2497617945049268, 'x_3': 0.9380573573420194}. Best is trial 2 with value: 0.9972144846796658.\u001B[0m\n",
      "\u001B[32m[I 2022-12-12 17:46:33,779]\u001B[0m Trial 54 finished with value: 0.9972144846796658 and parameters: {'x_0': 0.786205353240141, 'x_1': 0.6734170672257828, 'x_2': 0.352121850408566, 'x_3': 0.4592135123204891}. Best is trial 2 with value: 0.9972144846796658.\u001B[0m\n",
      "\u001B[32m[I 2022-12-12 17:46:33,801]\u001B[0m Trial 55 finished with value: 0.9972144846796658 and parameters: {'x_0': 0.09344537865501207, 'x_1': 0.2332713587401014, 'x_2': 0.1779548725940642, 'x_3': 0.8845610674144743}. Best is trial 2 with value: 0.9972144846796658.\u001B[0m\n",
      "\u001B[32m[I 2022-12-12 17:46:33,825]\u001B[0m Trial 56 finished with value: 0.9972144846796658 and parameters: {'x_0': 0.7529384443347356, 'x_1': 0.6568938409976475, 'x_2': 0.1563599639437877, 'x_3': 0.4576477204096571}. Best is trial 2 with value: 0.9972144846796658.\u001B[0m\n",
      "\u001B[32m[I 2022-12-12 17:46:33,847]\u001B[0m Trial 57 finished with value: 0.9972144846796658 and parameters: {'x_0': 0.5848818862846704, 'x_1': 0.7428696436786442, 'x_2': 0.17931734704066546, 'x_3': 0.7138399980415147}. Best is trial 2 with value: 0.9972144846796658.\u001B[0m\n",
      "\u001B[32m[I 2022-12-12 17:46:33,870]\u001B[0m Trial 58 finished with value: 0.9972144846796658 and parameters: {'x_0': 0.6645957414698107, 'x_1': 0.7373850224876747, 'x_2': 0.2712040724137508, 'x_3': 0.6453818720920655}. Best is trial 2 with value: 0.9972144846796658.\u001B[0m\n",
      "\u001B[32m[I 2022-12-12 17:46:33,893]\u001B[0m Trial 59 finished with value: 0.9972144846796658 and parameters: {'x_0': 0.5748764681100076, 'x_1': 0.7476517798161249, 'x_2': 0.2058688688007138, 'x_3': 0.7081880045539714}. Best is trial 2 with value: 0.9972144846796658.\u001B[0m\n",
      "\u001B[32m[I 2022-12-12 17:46:33,914]\u001B[0m Trial 60 finished with value: 0.9972144846796658 and parameters: {'x_0': 0.6643077474764919, 'x_1': 0.8755836480543436, 'x_2': 0.40953311114651403, 'x_3': 0.7733750497874997}. Best is trial 2 with value: 0.9972144846796658.\u001B[0m\n",
      "\u001B[32m[I 2022-12-12 17:46:33,937]\u001B[0m Trial 61 finished with value: 0.9972144846796658 and parameters: {'x_0': 0.7216200881098914, 'x_1': 0.5190975246644682, 'x_2': 0.4577268258798233, 'x_3': 0.7965863106630696}. Best is trial 2 with value: 0.9972144846796658.\u001B[0m\n",
      "\u001B[32m[I 2022-12-12 17:46:33,959]\u001B[0m Trial 62 finished with value: 0.9972144846796658 and parameters: {'x_0': 0.9064780225344407, 'x_1': 0.8734692622613098, 'x_2': 0.4048965394077247, 'x_3': 0.7482671487076357}. Best is trial 2 with value: 0.9972144846796658.\u001B[0m\n",
      "\u001B[32m[I 2022-12-12 17:46:33,982]\u001B[0m Trial 63 finished with value: 0.9972144846796658 and parameters: {'x_0': 0.62617779865152, 'x_1': 0.6961727990129809, 'x_2': 0.4340773235971758, 'x_3': 0.8096283577802575}. Best is trial 2 with value: 0.9972144846796658.\u001B[0m\n",
      "\u001B[32m[I 2022-12-12 17:46:34,005]\u001B[0m Trial 64 finished with value: 0.9972144846796658 and parameters: {'x_0': 0.9957728442143299, 'x_1': 0.8024862622008573, 'x_2': 0.4941269646016581, 'x_3': 0.7476828783082792}. Best is trial 2 with value: 0.9972144846796658.\u001B[0m\n",
      "\u001B[32m[I 2022-12-12 17:46:34,027]\u001B[0m Trial 65 finished with value: 0.9972144846796658 and parameters: {'x_0': 0.6168582971204074, 'x_1': 0.708775209015742, 'x_2': 0.5312356749945208, 'x_3': 0.8310341507476742}. Best is trial 2 with value: 0.9972144846796658.\u001B[0m\n",
      "\u001B[32m[I 2022-12-12 17:46:34,050]\u001B[0m Trial 66 finished with value: 0.9972144846796658 and parameters: {'x_0': 0.9448995325253476, 'x_1': 0.8026193657323316, 'x_2': 0.5074670616689447, 'x_3': 0.6827609135922279}. Best is trial 2 with value: 0.9972144846796658.\u001B[0m\n",
      "\u001B[32m[I 2022-12-12 17:46:34,072]\u001B[0m Trial 67 finished with value: 0.9860724233983287 and parameters: {'x_0': 0.46823079520189287, 'x_1': 0.7745783846337032, 'x_2': 0.9074543159744831, 'x_3': 0.6762728489969775}. Best is trial 2 with value: 0.9972144846796658.\u001B[0m\n",
      "\u001B[32m[I 2022-12-12 17:46:34,097]\u001B[0m Trial 68 finished with value: 0.9888579387186629 and parameters: {'x_0': 0.7374891114481829, 'x_1': 0.9057312358684031, 'x_2': 0.9825259006768435, 'x_3': 0.8893109049441016}. Best is trial 2 with value: 0.9972144846796658.\u001B[0m\n",
      "\u001B[32m[I 2022-12-12 17:46:34,120]\u001B[0m Trial 69 finished with value: 0.9972144846796658 and parameters: {'x_0': 0.8121604070405843, 'x_1': 0.8729947108942645, 'x_2': 0.4115266998013011, 'x_3': 0.5678152781400457}. Best is trial 2 with value: 0.9972144846796658.\u001B[0m\n",
      "\u001B[32m[I 2022-12-12 17:46:34,144]\u001B[0m Trial 70 finished with value: 0.9888579387186629 and parameters: {'x_0': 0.8249263077900416, 'x_1': 0.935655820926283, 'x_2': 0.5481486288245745, 'x_3': 0.5104084346993409}. Best is trial 2 with value: 0.9972144846796658.\u001B[0m\n",
      "\u001B[32m[I 2022-12-12 17:46:34,168]\u001B[0m Trial 71 finished with value: 0.9972144846796658 and parameters: {'x_0': 0.6755155542946162, 'x_1': 0.8931780236468091, 'x_2': 0.4355650845899574, 'x_3': 0.8902032303679215}. Best is trial 2 with value: 0.9972144846796658.\u001B[0m\n",
      "\u001B[32m[I 2022-12-12 17:46:34,193]\u001B[0m Trial 72 finished with value: 0.9944289693593314 and parameters: {'x_0': 0.52698387239602, 'x_1': 0.9765739033733609, 'x_2': 0.000588546629309572, 'x_3': 0.24318037267780263}. Best is trial 2 with value: 0.9972144846796658.\u001B[0m\n",
      "\u001B[32m[I 2022-12-12 17:46:34,216]\u001B[0m Trial 73 finished with value: 0.9972144846796658 and parameters: {'x_0': 0.7690389476253109, 'x_1': 0.7164493201221122, 'x_2': 0.27028946225351913, 'x_3': 0.6411774949586206}. Best is trial 2 with value: 0.9972144846796658.\u001B[0m\n",
      "\u001B[32m[I 2022-12-12 17:46:34,239]\u001B[0m Trial 74 finished with value: 0.9944289693593314 and parameters: {'x_0': 0.6959333666478384, 'x_1': 0.9294975219776975, 'x_2': 0.019161682853938954, 'x_3': 0.3151269116478524}. Best is trial 2 with value: 0.9972144846796658.\u001B[0m\n",
      "\u001B[32m[I 2022-12-12 17:46:34,260]\u001B[0m Trial 75 finished with value: 0.9972144846796658 and parameters: {'x_0': 0.6560869638345986, 'x_1': 0.8540941777135792, 'x_2': 0.20585225155100728, 'x_3': 0.770675390354821}. Best is trial 2 with value: 0.9972144846796658.\u001B[0m\n",
      "\u001B[32m[I 2022-12-12 17:46:34,284]\u001B[0m Trial 76 finished with value: 0.9944289693593314 and parameters: {'x_0': 0.3669023983612961, 'x_1': 0.992441993618962, 'x_2': 0.03901150219228571, 'x_3': 0.3542782137809852}. Best is trial 2 with value: 0.9972144846796658.\u001B[0m\n",
      "\u001B[32m[I 2022-12-12 17:46:34,307]\u001B[0m Trial 77 finished with value: 0.9972144846796658 and parameters: {'x_0': 0.9074799136456909, 'x_1': 0.5440219884730577, 'x_2': 0.45927642872841323, 'x_3': 0.7320137214275475}. Best is trial 2 with value: 0.9972144846796658.\u001B[0m\n",
      "\u001B[32m[I 2022-12-12 17:46:34,330]\u001B[0m Trial 78 finished with value: 0.9972144846796658 and parameters: {'x_0': 0.2628239537684728, 'x_1': 0.4250321945301451, 'x_2': 0.08286071541860199, 'x_3': 0.5734309674089658}. Best is trial 2 with value: 0.9972144846796658.\u001B[0m\n",
      "\u001B[32m[I 2022-12-12 17:46:34,353]\u001B[0m Trial 79 finished with value: 0.9972144846796658 and parameters: {'x_0': 0.9131098761032881, 'x_1': 0.30240791731449884, 'x_2': 0.38171403136566495, 'x_3': 0.6366519141302569}. Best is trial 2 with value: 0.9972144846796658.\u001B[0m\n",
      "\u001B[32m[I 2022-12-12 17:46:34,376]\u001B[0m Trial 80 finished with value: 0.9972144846796658 and parameters: {'x_0': 0.1683169261993285, 'x_1': 0.42091415588878955, 'x_2': 0.09247346226028672, 'x_3': 0.5820807661344014}. Best is trial 2 with value: 0.9972144846796658.\u001B[0m\n",
      "\u001B[32m[I 2022-12-12 17:46:34,398]\u001B[0m Trial 81 finished with value: 0.9972144846796658 and parameters: {'x_0': 0.49570752702495274, 'x_1': 0.8188895671065255, 'x_2': 0.5107298730326242, 'x_3': 0.6828017364171328}. Best is trial 2 with value: 0.9972144846796658.\u001B[0m\n",
      "\u001B[32m[I 2022-12-12 17:46:34,421]\u001B[0m Trial 82 finished with value: 0.9972144846796658 and parameters: {'x_0': 0.44521218675684304, 'x_1': 0.817560067455793, 'x_2': 0.5180707707391953, 'x_3': 0.6810791478718226}. Best is trial 2 with value: 0.9972144846796658.\u001B[0m\n",
      "\u001B[32m[I 2022-12-12 17:46:34,444]\u001B[0m Trial 83 finished with value: 0.9972144846796658 and parameters: {'x_0': 0.45096787008891026, 'x_1': 0.8361232968649794, 'x_2': 0.5980940220231077, 'x_3': 0.6683021448086527}. Best is trial 2 with value: 0.9972144846796658.\u001B[0m\n",
      "\u001B[32m[I 2022-12-12 17:46:34,466]\u001B[0m Trial 84 finished with value: 0.9944289693593314 and parameters: {'x_0': 0.45825475106192676, 'x_1': 0.9115715769931787, 'x_2': 0.5912059803073056, 'x_3': 0.6474968183342891}. Best is trial 2 with value: 0.9972144846796658.\u001B[0m\n",
      "\u001B[32m[I 2022-12-12 17:46:34,491]\u001B[0m Trial 85 finished with value: 0.9916434540389972 and parameters: {'x_0': 0.8609201227552841, 'x_1': 0.9529703034458383, 'x_2': 0.47692729874743006, 'x_3': 0.5245372307235084}. Best is trial 2 with value: 0.9972144846796658.\u001B[0m\n",
      "\u001B[32m[I 2022-12-12 17:46:34,514]\u001B[0m Trial 86 finished with value: 0.9944289693593314 and parameters: {'x_0': 0.6862184096714647, 'x_1': 0.9994721297439949, 'x_2': 0.049041388747879916, 'x_3': 0.42605385663119094}. Best is trial 2 with value: 0.9972144846796658.\u001B[0m\n",
      "\u001B[32m[I 2022-12-12 17:46:34,537]\u001B[0m Trial 87 finished with value: 0.9972144846796658 and parameters: {'x_0': 0.6384059240288888, 'x_1': 0.7692927816820221, 'x_2': 0.12967298001554928, 'x_3': 0.6153387023963564}. Best is trial 2 with value: 0.9972144846796658.\u001B[0m\n",
      "\u001B[32m[I 2022-12-12 17:46:34,561]\u001B[0m Trial 88 finished with value: 0.9972144846796658 and parameters: {'x_0': 0.5186983633745091, 'x_1': 0.7623405497311493, 'x_2': 0.22592749110140986, 'x_3': 0.6018042068202757}. Best is trial 2 with value: 0.9972144846796658.\u001B[0m\n",
      "\u001B[32m[I 2022-12-12 17:46:34,584]\u001B[0m Trial 89 finished with value: 0.9972144846796658 and parameters: {'x_0': 0.5532205150517548, 'x_1': 0.3072100807388268, 'x_2': 0.13025044755016593, 'x_3': 0.6087686608588473}. Best is trial 2 with value: 0.9972144846796658.\u001B[0m\n",
      "\u001B[32m[I 2022-12-12 17:46:34,607]\u001B[0m Trial 90 finished with value: 0.9972144846796658 and parameters: {'x_0': 0.15606915308753877, 'x_1': 0.4016022368445409, 'x_2': 0.08574376906217046, 'x_3': 0.5909991706543777}. Best is trial 2 with value: 0.9972144846796658.\u001B[0m\n",
      "\u001B[32m[I 2022-12-12 17:46:34,637]\u001B[0m Trial 91 finished with value: 0.9972144846796658 and parameters: {'x_0': 0.11993831874923097, 'x_1': 0.6081466084650639, 'x_2': 0.3475733158037302, 'x_3': 0.9439228279399606}. Best is trial 2 with value: 0.9972144846796658.\u001B[0m\n",
      "\u001B[32m[I 2022-12-12 17:46:34,666]\u001B[0m Trial 92 finished with value: 0.9972144846796658 and parameters: {'x_0': 0.0516815159192092, 'x_1': 0.6770893421407975, 'x_2': 0.16894978796894516, 'x_3': 0.4640379431926809}. Best is trial 2 with value: 0.9972144846796658.\u001B[0m\n",
      "\u001B[32m[I 2022-12-12 17:46:34,689]\u001B[0m Trial 93 finished with value: 0.9972144846796658 and parameters: {'x_0': 0.07549607599366744, 'x_1': 0.6583023224636706, 'x_2': 0.16280595475500212, 'x_3': 0.4516926372384272}. Best is trial 2 with value: 0.9972144846796658.\u001B[0m\n",
      "\u001B[32m[I 2022-12-12 17:46:34,715]\u001B[0m Trial 94 finished with value: 0.9972144846796658 and parameters: {'x_0': 0.27350310447238135, 'x_1': 0.8524637245606623, 'x_2': 0.00024727625297860534, 'x_3': 0.8136794951954475}. Best is trial 2 with value: 0.9972144846796658.\u001B[0m\n",
      "\u001B[32m[I 2022-12-12 17:46:34,739]\u001B[0m Trial 95 finished with value: 0.9972144846796658 and parameters: {'x_0': 0.285296254341322, 'x_1': 0.28044599709507545, 'x_2': 0.09124515474960347, 'x_3': 0.5780318160290697}. Best is trial 2 with value: 0.9972144846796658.\u001B[0m\n",
      "\u001B[32m[I 2022-12-12 17:46:34,763]\u001B[0m Trial 96 finished with value: 0.9972144846796658 and parameters: {'x_0': 0.23699657324790172, 'x_1': 0.3568989733327923, 'x_2': 0.3101952365310409, 'x_3': 0.5595255365929975}. Best is trial 2 with value: 0.9972144846796658.\u001B[0m\n",
      "\u001B[32m[I 2022-12-12 17:46:34,786]\u001B[0m Trial 97 finished with value: 0.9972144846796658 and parameters: {'x_0': 0.580109617736258, 'x_1': 0.7311582646529107, 'x_2': 0.4108303808980702, 'x_3': 0.7203096938068254}. Best is trial 2 with value: 0.9972144846796658.\u001B[0m\n",
      "\u001B[32m[I 2022-12-12 17:46:34,809]\u001B[0m Trial 98 finished with value: 0.9972144846796658 and parameters: {'x_0': 0.6181823238082389, 'x_1': 0.7367523036807223, 'x_2': 0.379791076207053, 'x_3': 0.7433891893493114}. Best is trial 2 with value: 0.9972144846796658.\u001B[0m\n",
      "\u001B[32m[I 2022-12-12 17:46:34,834]\u001B[0m Trial 99 finished with value: 0.9972144846796658 and parameters: {'x_0': 0.9923689434212908, 'x_1': 0.7451590179267303, 'x_2': 0.546346089070666, 'x_3': 0.8165752440549054}. Best is trial 2 with value: 0.9972144846796658.\u001B[0m\n",
      "\u001B[32m[I 2022-12-12 17:46:34,858]\u001B[0m Trial 100 finished with value: 0.9972144846796658 and parameters: {'x_0': 0.9357050392948025, 'x_1': 0.8697851948970576, 'x_2': 0.43164369970064265, 'x_3': 0.8276241883946829}. Best is trial 2 with value: 0.9972144846796658.\u001B[0m\n",
      "\u001B[32m[I 2022-12-12 17:46:34,881]\u001B[0m Trial 101 finished with value: 0.9972144846796658 and parameters: {'x_0': 0.9602906149113343, 'x_1': 0.7968412085762826, 'x_2': 0.48427412006520587, 'x_3': 0.7058317782147348}. Best is trial 2 with value: 0.9972144846796658.\u001B[0m\n",
      "\u001B[32m[I 2022-12-12 17:46:34,906]\u001B[0m Trial 102 finished with value: 0.9972144846796658 and parameters: {'x_0': 0.966497140947614, 'x_1': 0.7985357425077949, 'x_2': 0.41453139563317054, 'x_3': 0.7923539581592484}. Best is trial 2 with value: 0.9972144846796658.\u001B[0m\n",
      "\u001B[32m[I 2022-12-12 17:46:34,929]\u001B[0m Trial 103 finished with value: 0.9972144846796658 and parameters: {'x_0': 0.6126027134642145, 'x_1': 0.8871243526205572, 'x_2': 0.4339559161724574, 'x_3': 0.9047137506828183}. Best is trial 2 with value: 0.9972144846796658.\u001B[0m\n",
      "\u001B[32m[I 2022-12-12 17:46:34,953]\u001B[0m Trial 104 finished with value: 0.9972144846796658 and parameters: {'x_0': 0.8033402223959807, 'x_1': 0.8582708767399143, 'x_2': 0.451901452952412, 'x_3': 0.8492868392788561}. Best is trial 2 with value: 0.9972144846796658.\u001B[0m\n",
      "\u001B[32m[I 2022-12-12 17:46:34,977]\u001B[0m Trial 105 finished with value: 0.9972144846796658 and parameters: {'x_0': 0.7677206814426722, 'x_1': 0.4871677645311793, 'x_2': 0.5316012286916462, 'x_3': 0.7497017132102575}. Best is trial 2 with value: 0.9972144846796658.\u001B[0m\n",
      "\u001B[32m[I 2022-12-12 17:46:35,001]\u001B[0m Trial 106 finished with value: 0.9972144846796658 and parameters: {'x_0': 0.8864465678269147, 'x_1': 0.5931463434325341, 'x_2': 0.47100465433125194, 'x_3': 0.8055894730384024}. Best is trial 2 with value: 0.9972144846796658.\u001B[0m\n",
      "\u001B[32m[I 2022-12-12 17:46:35,026]\u001B[0m Trial 107 finished with value: 0.9972144846796658 and parameters: {'x_0': 0.9067403746475826, 'x_1': 0.817586699186919, 'x_2': 0.4945638651434185, 'x_3': 0.7328518832169045}. Best is trial 2 with value: 0.9972144846796658.\u001B[0m\n",
      "\u001B[32m[I 2022-12-12 17:46:35,049]\u001B[0m Trial 108 finished with value: 0.9972144846796658 and parameters: {'x_0': 0.9363966224651981, 'x_1': 0.7108276944725334, 'x_2': 0.5743251065297104, 'x_3': 0.9161002478266866}. Best is trial 2 with value: 0.9972144846796658.\u001B[0m\n",
      "\u001B[32m[I 2022-12-12 17:46:35,072]\u001B[0m Trial 109 finished with value: 0.9972144846796658 and parameters: {'x_0': 0.7958701679902781, 'x_1': 0.6834522741826242, 'x_2': 0.37086404607538564, 'x_3': 0.8764733525765366}. Best is trial 2 with value: 0.9972144846796658.\u001B[0m\n",
      "\u001B[32m[I 2022-12-12 17:46:35,096]\u001B[0m Trial 110 finished with value: 0.9972144846796658 and parameters: {'x_0': 0.6314205125446173, 'x_1': 0.6569783822969628, 'x_2': 0.3283377462702488, 'x_3': 0.8271443416538418}. Best is trial 2 with value: 0.9972144846796658.\u001B[0m\n",
      "\u001B[32m[I 2022-12-12 17:46:35,120]\u001B[0m Trial 111 finished with value: 0.9972144846796658 and parameters: {'x_0': 0.8580446140886566, 'x_1': 0.2105245496748759, 'x_2': 0.5300941480763025, 'x_3': 0.6569975054785787}. Best is trial 2 with value: 0.9972144846796658.\u001B[0m\n",
      "\u001B[32m[I 2022-12-12 17:46:35,144]\u001B[0m Trial 112 finished with value: 0.9944289693593314 and parameters: {'x_0': 0.09937748010877129, 'x_1': 0.1547096473150032, 'x_2': 0.632851769792935, 'x_3': 0.6298249518320584}. Best is trial 2 with value: 0.9972144846796658.\u001B[0m\n",
      "\u001B[32m[I 2022-12-12 17:46:35,169]\u001B[0m Trial 113 finished with value: 0.9972144846796658 and parameters: {'x_0': 0.025530459930483, 'x_1': 0.2019642127882206, 'x_2': 0.2520752985176853, 'x_3': 0.9635585987341236}. Best is trial 2 with value: 0.9972144846796658.\u001B[0m\n",
      "\u001B[32m[I 2022-12-12 17:46:35,193]\u001B[0m Trial 114 finished with value: 0.9972144846796658 and parameters: {'x_0': 0.4380917371690676, 'x_1': 0.41929766068105423, 'x_2': 0.14897109774180603, 'x_3': 0.674405926024157}. Best is trial 2 with value: 0.9972144846796658.\u001B[0m\n",
      "\u001B[32m[I 2022-12-12 17:46:35,219]\u001B[0m Trial 115 finished with value: 0.9972144846796658 and parameters: {'x_0': 0.8142655454274283, 'x_1': 0.4349148342362165, 'x_2': 0.5244179954407734, 'x_3': 0.7044347417967004}. Best is trial 2 with value: 0.9972144846796658.\u001B[0m\n",
      "\u001B[32m[I 2022-12-12 17:46:35,242]\u001B[0m Trial 116 finished with value: 0.9944289693593314 and parameters: {'x_0': 0.48483911892939385, 'x_1': 0.8354467127016961, 'x_2': 0.6500372498531306, 'x_3': 0.6654045318110744}. Best is trial 2 with value: 0.9972144846796658.\u001B[0m\n",
      "\u001B[32m[I 2022-12-12 17:46:35,266]\u001B[0m Trial 117 finished with value: 0.9972144846796658 and parameters: {'x_0': 0.6712106748303376, 'x_1': 0.6354279531793838, 'x_2': 0.18302959477578737, 'x_3': 0.7011957635095233}. Best is trial 2 with value: 0.9972144846796658.\u001B[0m\n",
      "\u001B[32m[I 2022-12-12 17:46:35,292]\u001B[0m Trial 118 finished with value: 0.9944289693593314 and parameters: {'x_0': 0.3705542091337647, 'x_1': 0.7635864006352832, 'x_2': 0.6080816175249908, 'x_3': 0.6240408841504168}. Best is trial 2 with value: 0.9972144846796658.\u001B[0m\n",
      "\u001B[32m[I 2022-12-12 17:46:35,316]\u001B[0m Trial 119 finished with value: 0.9972144846796658 and parameters: {'x_0': 0.6680030086860872, 'x_1': 0.639945327352553, 'x_2': 0.21002354380700922, 'x_3': 0.7732702829728121}. Best is trial 2 with value: 0.9972144846796658.\u001B[0m\n",
      "\u001B[32m[I 2022-12-12 17:46:35,340]\u001B[0m Trial 120 finished with value: 0.9972144846796658 and parameters: {'x_0': 0.5564927802353563, 'x_1': 0.7683649489903596, 'x_2': 0.22179495754938272, 'x_3': 0.6113466525234298}. Best is trial 2 with value: 0.9972144846796658.\u001B[0m\n",
      "\u001B[32m[I 2022-12-12 17:46:35,364]\u001B[0m Trial 121 finished with value: 0.9972144846796658 and parameters: {'x_0': 0.34306154145561757, 'x_1': 0.8154784021233544, 'x_2': 0.10735430220896094, 'x_3': 0.5750334855780853}. Best is trial 2 with value: 0.9972144846796658.\u001B[0m\n",
      "\u001B[32m[I 2022-12-12 17:46:35,390]\u001B[0m Trial 122 finished with value: 0.9972144846796658 and parameters: {'x_0': 0.6522910853028501, 'x_1': 0.3200618160772419, 'x_2': 0.5683696185345846, 'x_3': 0.6903942067861346}. Best is trial 2 with value: 0.9972144846796658.\u001B[0m\n",
      "\u001B[32m[I 2022-12-12 17:46:35,414]\u001B[0m Trial 123 finished with value: 0.9972144846796658 and parameters: {'x_0': 0.15765254797572603, 'x_1': 0.31529731704423736, 'x_2': 0.1327231630449073, 'x_3': 0.5968335389070837}. Best is trial 2 with value: 0.9972144846796658.\u001B[0m\n",
      "\u001B[32m[I 2022-12-12 17:46:35,438]\u001B[0m Trial 124 finished with value: 0.9972144846796658 and parameters: {'x_0': 0.12850600595795778, 'x_1': 0.5302446297458959, 'x_2': 0.08322363801222891, 'x_3': 0.5901270408600783}. Best is trial 2 with value: 0.9972144846796658.\u001B[0m\n",
      "\u001B[32m[I 2022-12-12 17:46:35,464]\u001B[0m Trial 125 finished with value: 0.9972144846796658 and parameters: {'x_0': 0.17844864019154943, 'x_1': 0.3962904919144999, 'x_2': 0.1359504287670651, 'x_3': 0.5300063644990967}. Best is trial 2 with value: 0.9972144846796658.\u001B[0m\n",
      "\u001B[32m[I 2022-12-12 17:46:35,491]\u001B[0m Trial 126 finished with value: 0.9972144846796658 and parameters: {'x_0': 0.13032126663229515, 'x_1': 0.37435803908865317, 'x_2': 0.09837741939571201, 'x_3': 0.609355629192311}. Best is trial 2 with value: 0.9972144846796658.\u001B[0m\n",
      "\u001B[32m[I 2022-12-12 17:46:35,517]\u001B[0m Trial 127 finished with value: 0.9972144846796658 and parameters: {'x_0': 0.5173223258586983, 'x_1': 0.6046455041724049, 'x_2': 0.06478546049743852, 'x_3': 0.49130756522427194}. Best is trial 2 with value: 0.9972144846796658.\u001B[0m\n",
      "\u001B[32m[I 2022-12-12 17:46:35,543]\u001B[0m Trial 128 finished with value: 0.9972144846796658 and parameters: {'x_0': 0.07229165821476707, 'x_1': 0.2613690797486581, 'x_2': 0.17369634365960335, 'x_3': 0.5460270893783997}. Best is trial 2 with value: 0.9972144846796658.\u001B[0m\n",
      "\u001B[32m[I 2022-12-12 17:46:35,569]\u001B[0m Trial 129 finished with value: 0.9972144846796658 and parameters: {'x_0': 0.05636929970785044, 'x_1': 0.33283749909483373, 'x_2': 0.15698079004790044, 'x_3': 0.48125655197932793}. Best is trial 2 with value: 0.9972144846796658.\u001B[0m\n",
      "\u001B[32m[I 2022-12-12 17:46:35,594]\u001B[0m Trial 130 finished with value: 0.9972144846796658 and parameters: {'x_0': 0.16498047641825153, 'x_1': 0.7777240767680177, 'x_2': 0.11630699364294078, 'x_3': 0.6588679335561731}. Best is trial 2 with value: 0.9972144846796658.\u001B[0m\n",
      "\u001B[32m[I 2022-12-12 17:46:35,618]\u001B[0m Trial 131 finished with value: 0.9972144846796658 and parameters: {'x_0': 0.22430612766879165, 'x_1': 0.3514014937101323, 'x_2': 0.03874636164007161, 'x_3': 0.5575274607249026}. Best is trial 2 with value: 0.9972144846796658.\u001B[0m\n",
      "\u001B[32m[I 2022-12-12 17:46:35,644]\u001B[0m Trial 132 finished with value: 0.9972144846796658 and parameters: {'x_0': 0.2955111870827881, 'x_1': 0.6657157124926476, 'x_2': 0.3382692373769427, 'x_3': 0.5317323558981197}. Best is trial 2 with value: 0.9972144846796658.\u001B[0m\n",
      "\u001B[32m[I 2022-12-12 17:46:35,668]\u001B[0m Trial 133 finished with value: 0.9860724233983287 and parameters: {'x_0': 0.2600406624856577, 'x_1': 0.277492401494156, 'x_2': 0.7304453940530866, 'x_3': 0.6007313167371058}. Best is trial 2 with value: 0.9972144846796658.\u001B[0m\n",
      "\u001B[32m[I 2022-12-12 17:46:35,693]\u001B[0m Trial 134 finished with value: 0.9972144846796658 and parameters: {'x_0': 0.42416077668655466, 'x_1': 0.8189980863036342, 'x_2': 0.5064228589500883, 'x_3': 0.6389416905882646}. Best is trial 2 with value: 0.9972144846796658.\u001B[0m\n",
      "\u001B[32m[I 2022-12-12 17:46:35,718]\u001B[0m Trial 135 finished with value: 0.9972144846796658 and parameters: {'x_0': 0.45006253328605583, 'x_1': 0.49417707728915605, 'x_2': 0.07171579108663842, 'x_3': 0.6360921462106895}. Best is trial 2 with value: 0.9972144846796658.\u001B[0m\n",
      "\u001B[32m[I 2022-12-12 17:46:35,743]\u001B[0m Trial 136 finished with value: 0.9972144846796658 and parameters: {'x_0': 0.5019937767564399, 'x_1': 0.5513877090452339, 'x_2': 0.08654605766944656, 'x_3': 0.585697980758245}. Best is trial 2 with value: 0.9972144846796658.\u001B[0m\n",
      "\u001B[32m[I 2022-12-12 17:46:35,766]\u001B[0m Trial 137 finished with value: 0.9972144846796658 and parameters: {'x_0': 0.3917366449474001, 'x_1': 0.846768778526487, 'x_2': 0.19438661863496734, 'x_3': 0.579912286357295}. Best is trial 2 with value: 0.9972144846796658.\u001B[0m\n",
      "\u001B[32m[I 2022-12-12 17:46:35,793]\u001B[0m Trial 138 finished with value: 0.9972144846796658 and parameters: {'x_0': 0.39065081297113935, 'x_1': 0.8410689562714514, 'x_2': 0.5657983727063303, 'x_3': 0.6749043643033408}. Best is trial 2 with value: 0.9972144846796658.\u001B[0m\n",
      "\u001B[32m[I 2022-12-12 17:46:35,819]\u001B[0m Trial 139 finished with value: 0.9972144846796658 and parameters: {'x_0': 0.20595973734256756, 'x_1': 0.7328812990067437, 'x_2': 0.34689421084111893, 'x_3': 0.8266094191325891}. Best is trial 2 with value: 0.9972144846796658.\u001B[0m\n",
      "\u001B[32m[I 2022-12-12 17:46:35,844]\u001B[0m Trial 140 finished with value: 0.9916434540389972 and parameters: {'x_0': 0.9778466658393296, 'x_1': 0.6943026965146576, 'x_2': 0.42087018868849846, 'x_3': 0.4351890009963295}. Best is trial 2 with value: 0.9972144846796658.\u001B[0m\n",
      "\u001B[32m[I 2022-12-12 17:46:35,869]\u001B[0m Trial 141 finished with value: 0.9972144846796658 and parameters: {'x_0': 0.5418109827565363, 'x_1': 0.8920966734386694, 'x_2': 0.29085852145093505, 'x_3': 0.7299497506174005}. Best is trial 2 with value: 0.9972144846796658.\u001B[0m\n",
      "\u001B[32m[I 2022-12-12 17:46:35,894]\u001B[0m Trial 142 finished with value: 0.9972144846796658 and parameters: {'x_0': 0.5430150311444045, 'x_1': 0.440375775553803, 'x_2': 0.2862156835142792, 'x_3': 0.6214141186387674}. Best is trial 2 with value: 0.9972144846796658.\u001B[0m\n",
      "\u001B[32m[I 2022-12-12 17:46:35,918]\u001B[0m Trial 143 finished with value: 0.9972144846796658 and parameters: {'x_0': 0.9830750241906894, 'x_1': 0.7884842013878045, 'x_2': 0.38717643639957255, 'x_3': 0.9081930020535083}. Best is trial 2 with value: 0.9972144846796658.\u001B[0m\n",
      "\u001B[32m[I 2022-12-12 17:46:35,943]\u001B[0m Trial 144 finished with value: 0.9972144846796658 and parameters: {'x_0': 0.9724582026749315, 'x_1': 0.8608137494772692, 'x_2': 0.43751693682507437, 'x_3': 0.8587585730408525}. Best is trial 2 with value: 0.9972144846796658.\u001B[0m\n",
      "\u001B[32m[I 2022-12-12 17:46:35,966]\u001B[0m Trial 145 finished with value: 0.9972144846796658 and parameters: {'x_0': 0.3266344349216497, 'x_1': 0.7833719309522434, 'x_2': 0.22843310763141605, 'x_3': 0.7704936735497212}. Best is trial 2 with value: 0.9972144846796658.\u001B[0m\n",
      "\u001B[32m[I 2022-12-12 17:46:35,992]\u001B[0m Trial 146 finished with value: 0.9972144846796658 and parameters: {'x_0': 0.33351548417679855, 'x_1': 0.822388178230732, 'x_2': 0.23128473841356073, 'x_3': 0.5690193938040518}. Best is trial 2 with value: 0.9972144846796658.\u001B[0m\n",
      "\u001B[32m[I 2022-12-12 17:46:36,022]\u001B[0m Trial 147 finished with value: 0.9972144846796658 and parameters: {'x_0': 0.9541554058403182, 'x_1': 0.7346419593644481, 'x_2': 0.4494372012254615, 'x_3': 0.7916521225008982}. Best is trial 2 with value: 0.9972144846796658.\u001B[0m\n",
      "\u001B[32m[I 2022-12-12 17:46:36,047]\u001B[0m Trial 148 finished with value: 0.9972144846796658 and parameters: {'x_0': 0.923948438066038, 'x_1': 0.7204243040109516, 'x_2': 0.47754687904866205, 'x_3': 0.8114328730413649}. Best is trial 2 with value: 0.9972144846796658.\u001B[0m\n",
      "\u001B[32m[I 2022-12-12 17:46:36,072]\u001B[0m Trial 149 finished with value: 0.9972144846796658 and parameters: {'x_0': 0.916956340480337, 'x_1': 0.3214644522282307, 'x_2': 0.4630044760363392, 'x_3': 0.6881920114708368}. Best is trial 2 with value: 0.9972144846796658.\u001B[0m\n"
     ]
    },
    {
     "name": "stdout",
     "output_type": "stream",
     "text": [
      "{'x_0': 0.9327162169547715, 'x_1': 0.785062759512272, 'x_2': 0.07663807406041412, 'x_3': 0.9299024439876066}\n",
      "0.9972144846796658\n",
      "\n",
      "0.9805555555555555\n"
     ]
    }
   ],
   "source": [
    "import optuna\n",
    "import sklearn.metrics\n",
    "import numpy as np\n",
    "\n",
    "\n",
    "class WeightAvg:\n",
    "    def __init__(self):\n",
    "        self.weights = None\n",
    "\n",
    "    def fit(self, X, y):\n",
    "        print(X.shape)\n",
    "        def objective(trial):\n",
    "            weights = []\n",
    "            for i in range(X.shape[0]):\n",
    "                weights.append(trial.suggest_float(f\"x_{i}\", 0, 1))\n",
    "            pred = np.average(X, weights=weights, axis=0)\n",
    "            pred = np.argmax(pred, -1)\n",
    "            return sklearn.metrics.accuracy_score(y, pred)\n",
    "\n",
    "        study = optuna.create_study(direction=\"maximize\")\n",
    "        study.optimize(objective, n_trials=150)\n",
    "        print(study.best_params)\n",
    "        self.weights = list(study.best_params.values())\n",
    "        return self\n",
    "\n",
    "    def predict(self, X):\n",
    "        scores = np.average(X, weights=self.weights, axis=0)\n",
    "        return np.argmax(scores, -1)\n",
    "\n",
    "def stack_with_onehot(scores):\n",
    "    new_scores_l= []\n",
    "    for score in scores:\n",
    "        n_score = score\n",
    "        if len(score.shape) == 1:\n",
    "            enc = OneHotEncoder()\n",
    "            enc.fit([[i] for i in range(10)])\n",
    "            n_score = enc.transform(np.expand_dims(score, -1)).toarray()\n",
    "        new_scores_l.append(n_score)\n",
    "    scores = np.array(new_scores_l)\n",
    "    return scores\n",
    "\n",
    "with mlflow.start_run() as run:\n",
    "    model_name = \"optuna_ensemble\"\n",
    "\n",
    "    ensemble = Ensemble(models_list, ensemble_method=\"meta_model\",\n",
    "                        stack_scores=stack_with_onehot)\n",
    "    ensemble.fit(WeightAvg(), X_val, y_val, force_scores_compute=True)\n",
    "    y_pred = ensemble.predict(None, X_val)\n",
    "    print(sklearn.metrics.accuracy_score(y_val, y_pred))\n",
    "\n",
    "    y_pred = ensemble.predict(None, X_test)\n",
    "    log_metrics(y_test, y_pred)\n",
    "    mlflow.pyfunc.log_model(model_name, python_model=ensemble,\n",
    "                            pip_requirements=[\"scikit-learn\", \"optuna\"],\n",
    "                            code_path=[\"../mlflow_ensemble/\"])\n",
    "    uri = f\"runs:/{run.info.run_id}/{model_name}\"\n",
    "mlflow.end_run()"
   ],
   "metadata": {
    "collapsed": false
   }
  }
 ],
 "metadata": {
  "kernelspec": {
   "display_name": "Python 3",
   "language": "python",
   "name": "python3"
  },
  "language_info": {
   "codemirror_mode": {
    "name": "ipython",
    "version": 2
   },
   "file_extension": ".py",
   "mimetype": "text/x-python",
   "name": "python",
   "nbconvert_exporter": "python",
   "pygments_lexer": "ipython2",
   "version": "2.7.6"
  }
 },
 "nbformat": 4,
 "nbformat_minor": 0
}
